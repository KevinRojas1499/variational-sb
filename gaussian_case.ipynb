{
 "cells": [
  {
   "cell_type": "code",
   "execution_count": 101,
   "metadata": {},
   "outputs": [],
   "source": [
    "import sympy as sp"
   ]
  },
  {
   "cell_type": "code",
   "execution_count": 144,
   "metadata": {},
   "outputs": [],
   "source": [
    "# sigma = sp.Symbol('s')\n",
    "sigma = sp.Symbol('s')\n",
    "# sigma = 1\n",
    "t = sp.Symbol('t')\n",
    "x,v = sp.Symbol('x'), sp.Symbol('v')\n",
    "z = sp.Matrix([x,v])\n",
    "exp_2t = sp.exp(2*t)\n",
    "sig_t = sp.Matrix([[(2*t**2 - 2 * t + 1) * exp_2t - 1, - 2 * t**2 * exp_2t],\n",
    "                   [- 2 * t**2 * exp_2t, (2*t**2 + 2 * t + 1) * exp_2t - 1]])\n",
    "exp_At = sp.exp(-t) * sp.Matrix([[t + 1, t],\n",
    "                                 [-t, 1 - t]])"
   ]
  },
  {
   "cell_type": "code",
   "execution_count": 187,
   "metadata": {},
   "outputs": [
    {
     "data": {
      "text/latex": [
       "$\\displaystyle \\left[\\begin{matrix}\\left(2 t^{2} - 2 t + 1\\right) e^{2 t} - 1 & - 2 t^{2} e^{2 t}\\\\- 2 t^{2} e^{2 t} & \\left(2 t^{2} + 2 t + 1\\right) e^{2 t} - 1\\end{matrix}\\right]$"
      ],
      "text/plain": [
       "Matrix([\n",
       "[(2*t**2 - 2*t + 1)*exp(2*t) - 1,                -2*t**2*exp(2*t)],\n",
       "[               -2*t**2*exp(2*t), (2*t**2 + 2*t + 1)*exp(2*t) - 1]])"
      ]
     },
     "execution_count": 187,
     "metadata": {},
     "output_type": "execute_result"
    }
   ],
   "source": [
    "sig_t"
   ]
  },
  {
   "cell_type": "code",
   "execution_count": 162,
   "metadata": {},
   "outputs": [
    {
     "data": {
      "text/latex": [
       "$\\displaystyle \\left[\\begin{matrix}\\left(- 2 t^{2} - 2 t + e^{2 t} - 1\\right) e^{- 2 t} & 2 t^{2} e^{- 2 t}\\\\2 t^{2} e^{- 2 t} & \\left(- 2 t^{2} + 2 t + e^{2 t} - 1\\right) e^{- 2 t}\\end{matrix}\\right]$"
      ],
      "text/plain": [
       "Matrix([\n",
       "[(-2*t**2 - 2*t + exp(2*t) - 1)*exp(-2*t),                         2*t**2*exp(-2*t)],\n",
       "[                        2*t**2*exp(-2*t), (-2*t**2 + 2*t + exp(2*t) - 1)*exp(-2*t)]])"
      ]
     },
     "execution_count": 162,
     "metadata": {},
     "output_type": "execute_result"
    }
   ],
   "source": [
    "var_t = sp.simplify(exp_At * sig_t * exp_At.T)\n",
    "var_t\n"
   ]
  },
  {
   "cell_type": "code",
   "execution_count": 148,
   "metadata": {},
   "outputs": [
    {
     "ename": "ValueError",
     "evalue": "Matrix must be Hermitian.",
     "output_type": "error",
     "traceback": [
      "\u001b[0;31m---------------------------------------------------------------------------\u001b[0m",
      "\u001b[0;31mValueError\u001b[0m                                Traceback (most recent call last)",
      "Cell \u001b[0;32mIn[148], line 2\u001b[0m\n\u001b[1;32m      1\u001b[0m score_mat \u001b[38;5;241m=\u001b[39m sp\u001b[38;5;241m.\u001b[39msimplify(exp_At \u001b[38;5;241m*\u001b[39m (sigma\u001b[38;5;241m*\u001b[39m\u001b[38;5;241m*\u001b[39m\u001b[38;5;241m2\u001b[39m \u001b[38;5;241m*\u001b[39m sp\u001b[38;5;241m.\u001b[39meye(\u001b[38;5;241m2\u001b[39m) \u001b[38;5;241m+\u001b[39m sig_t) \u001b[38;5;241m*\u001b[39m exp_At\u001b[38;5;241m.\u001b[39mT)\n\u001b[0;32m----> 2\u001b[0m \u001b[43mscore_mat\u001b[49m\u001b[38;5;241;43m.\u001b[39;49m\u001b[43mcholesky\u001b[49m\u001b[43m(\u001b[49m\u001b[43m)\u001b[49m\n",
      "File \u001b[0;32m~/anaconda3/envs/kinetic-fp/lib/python3.12/site-packages/sympy/matrices/dense.py:80\u001b[0m, in \u001b[0;36mDenseMatrix.cholesky\u001b[0;34m(self, hermitian)\u001b[0m\n\u001b[1;32m     79\u001b[0m \u001b[38;5;28;01mdef\u001b[39;00m \u001b[38;5;21mcholesky\u001b[39m(\u001b[38;5;28mself\u001b[39m, hermitian\u001b[38;5;241m=\u001b[39m\u001b[38;5;28;01mTrue\u001b[39;00m):\n\u001b[0;32m---> 80\u001b[0m     \u001b[38;5;28;01mreturn\u001b[39;00m \u001b[43m_cholesky\u001b[49m\u001b[43m(\u001b[49m\u001b[38;5;28;43mself\u001b[39;49m\u001b[43m,\u001b[49m\u001b[43m \u001b[49m\u001b[43mhermitian\u001b[49m\u001b[38;5;241;43m=\u001b[39;49m\u001b[43mhermitian\u001b[49m\u001b[43m)\u001b[49m\n",
      "File \u001b[0;32m~/anaconda3/envs/kinetic-fp/lib/python3.12/site-packages/sympy/matrices/decompositions.py:258\u001b[0m, in \u001b[0;36m_cholesky\u001b[0;34m(M, hermitian)\u001b[0m\n\u001b[1;32m    256\u001b[0m     \u001b[38;5;28;01mraise\u001b[39;00m NonSquareMatrixError(\u001b[38;5;124m\"\u001b[39m\u001b[38;5;124mMatrix must be square.\u001b[39m\u001b[38;5;124m\"\u001b[39m)\n\u001b[1;32m    257\u001b[0m \u001b[38;5;28;01mif\u001b[39;00m hermitian \u001b[38;5;129;01mand\u001b[39;00m \u001b[38;5;129;01mnot\u001b[39;00m M\u001b[38;5;241m.\u001b[39mis_hermitian:\n\u001b[0;32m--> 258\u001b[0m     \u001b[38;5;28;01mraise\u001b[39;00m \u001b[38;5;167;01mValueError\u001b[39;00m(\u001b[38;5;124m\"\u001b[39m\u001b[38;5;124mMatrix must be Hermitian.\u001b[39m\u001b[38;5;124m\"\u001b[39m)\n\u001b[1;32m    259\u001b[0m \u001b[38;5;28;01mif\u001b[39;00m \u001b[38;5;129;01mnot\u001b[39;00m hermitian \u001b[38;5;129;01mand\u001b[39;00m \u001b[38;5;129;01mnot\u001b[39;00m M\u001b[38;5;241m.\u001b[39mis_symmetric():\n\u001b[1;32m    260\u001b[0m     \u001b[38;5;28;01mraise\u001b[39;00m \u001b[38;5;167;01mValueError\u001b[39;00m(\u001b[38;5;124m\"\u001b[39m\u001b[38;5;124mMatrix must be symmetric.\u001b[39m\u001b[38;5;124m\"\u001b[39m)\n",
      "\u001b[0;31mValueError\u001b[0m: Matrix must be Hermitian."
     ]
    }
   ],
   "source": [
    "score_mat = sp.simplify(exp_At * (sigma**2 * sp.eye(2) + sig_t) * exp_At.T)"
   ]
  },
  {
   "cell_type": "code",
   "execution_count": null,
   "metadata": {},
   "outputs": [],
   "source": [
    "a = sp.Symbol('a')\n",
    "b = sp.Symbol('b')\n",
    "c = sp.Symbol('c')\n",
    "d = sp.Symbol('d')\n",
    "\n",
    "c_in = sp.Matrix([[a,0],[c,d]])\n",
    "\n",
    "sp.simplify(c_in * score_mat * c_in.T)\n",
    "sp.solve(c_in * score_mat * c_in.T - sp.eye(2), (a,b,c,d))"
   ]
  },
  {
   "cell_type": "code",
   "execution_count": 106,
   "metadata": {},
   "outputs": [
    {
     "data": {
      "text/latex": [
       "$\\displaystyle \\left[\\begin{matrix}\\frac{\\left(2 s^{2} t^{2} - 2 s^{2} t + s^{2} - 2 t^{2} + 2 t + e^{2 t} - 1\\right) e^{2 t}}{s^{4} + 4 s^{2} t^{2} e^{2 t} + 2 s^{2} e^{2 t} - 2 s^{2} - 4 t^{2} e^{2 t} + e^{4 t} - 2 e^{2 t} + 1} & \\frac{2 t^{2} \\left(s^{2} - 1\\right) e^{2 t}}{s^{4} + 4 s^{2} t^{2} e^{2 t} + 2 s^{2} e^{2 t} - 2 s^{2} - 4 t^{2} e^{2 t} + e^{4 t} - 2 e^{2 t} + 1}\\\\\\frac{2 t^{2} \\left(s^{2} - 1\\right) e^{2 t}}{s^{4} - 2 s^{2} + \\left(4 s^{2} t^{2} + 2 s^{2} - 4 t^{2} + e^{2 t} - 2\\right) e^{2 t} + 1} & \\frac{\\left(2 s^{2} t^{2} + 2 s^{2} t + s^{2} - 2 t^{2} - 2 t + e^{2 t} - 1\\right) e^{2 t}}{s^{4} + 4 s^{2} t^{2} e^{2 t} + 2 s^{2} e^{2 t} - 2 s^{2} - 4 t^{2} e^{2 t} + e^{4 t} - 2 e^{2 t} + 1}\\end{matrix}\\right]$"
      ],
      "text/plain": [
       "Matrix([\n",
       "[(2*s**2*t**2 - 2*s**2*t + s**2 - 2*t**2 + 2*t + exp(2*t) - 1)*exp(2*t)/(s**4 + 4*s**2*t**2*exp(2*t) + 2*s**2*exp(2*t) - 2*s**2 - 4*t**2*exp(2*t) + exp(4*t) - 2*exp(2*t) + 1),                                             2*t**2*(s**2 - 1)*exp(2*t)/(s**4 + 4*s**2*t**2*exp(2*t) + 2*s**2*exp(2*t) - 2*s**2 - 4*t**2*exp(2*t) + exp(4*t) - 2*exp(2*t) + 1)],\n",
       "[                                                                     2*t**2*(s**2 - 1)*exp(2*t)/(s**4 - 2*s**2 + (4*s**2*t**2 + 2*s**2 - 4*t**2 + exp(2*t) - 2)*exp(2*t) + 1), (2*s**2*t**2 + 2*s**2*t + s**2 - 2*t**2 - 2*t + exp(2*t) - 1)*exp(2*t)/(s**4 + 4*s**2*t**2*exp(2*t) + 2*s**2*exp(2*t) - 2*s**2 - 4*t**2*exp(2*t) + exp(4*t) - 2*exp(2*t) + 1)]])"
      ]
     },
     "execution_count": 106,
     "metadata": {},
     "output_type": "execute_result"
    }
   ],
   "source": [
    "inv = sp.simplify(score_mat.inv())\n",
    "inv"
   ]
  },
  {
   "cell_type": "code",
   "execution_count": 107,
   "metadata": {},
   "outputs": [
    {
     "data": {
      "text/latex": [
       "$\\displaystyle \\left[\\begin{matrix}- \\frac{\\left(2 t^{2} v \\left(s^{2} - 1\\right) + x \\left(2 s^{2} t^{2} - 2 s^{2} t + s^{2} - 2 t^{2} + 2 t + e^{2 t} - 1\\right)\\right) e^{2 t}}{s^{4} + 4 s^{2} t^{2} e^{2 t} + 2 s^{2} e^{2 t} - 2 s^{2} - 4 t^{2} e^{2 t} + e^{4 t} - 2 e^{2 t} + 1}\\\\- \\frac{\\left(2 s^{2} t^{2} v + 2 s^{2} t^{2} x + 2 s^{2} t v + s^{2} v - 2 t^{2} v - 2 t^{2} x - 2 t v + v e^{2 t} - v\\right) e^{2 t}}{s^{4} + 4 s^{2} t^{2} e^{2 t} + 2 s^{2} e^{2 t} - 2 s^{2} - 4 t^{2} e^{2 t} + e^{4 t} - 2 e^{2 t} + 1}\\end{matrix}\\right]$"
      ],
      "text/plain": [
       "Matrix([\n",
       "[             -(2*t**2*v*(s**2 - 1) + x*(2*s**2*t**2 - 2*s**2*t + s**2 - 2*t**2 + 2*t + exp(2*t) - 1))*exp(2*t)/(s**4 + 4*s**2*t**2*exp(2*t) + 2*s**2*exp(2*t) - 2*s**2 - 4*t**2*exp(2*t) + exp(4*t) - 2*exp(2*t) + 1)],\n",
       "[-(2*s**2*t**2*v + 2*s**2*t**2*x + 2*s**2*t*v + s**2*v - 2*t**2*v - 2*t**2*x - 2*t*v + v*exp(2*t) - v)*exp(2*t)/(s**4 + 4*s**2*t**2*exp(2*t) + 2*s**2*exp(2*t) - 2*s**2 - 4*t**2*exp(2*t) + exp(4*t) - 2*exp(2*t) + 1)]])"
      ]
     },
     "execution_count": 107,
     "metadata": {},
     "output_type": "execute_result"
    }
   ],
   "source": [
    "score = -sp.simplify(inv * z)\n",
    "score"
   ]
  },
  {
   "cell_type": "code",
   "execution_count": 108,
   "metadata": {},
   "outputs": [
    {
     "data": {
      "text/latex": [
       "$\\displaystyle - \\frac{\\left(2 t^{2} v \\left(s^{2} - 1\\right) + x \\left(2 s^{2} t^{2} - 2 s^{2} t + s^{2} - 2 t^{2} + 2 t + e^{2 t} - 1\\right)\\right) e^{2 t}}{s^{4} + 4 s^{2} t^{2} e^{2 t} + 2 s^{2} e^{2 t} - 2 s^{2} - 4 t^{2} e^{2 t} + e^{4 t} - 2 e^{2 t} + 1}$"
      ],
      "text/plain": [
       "-(2*t**2*v*(s**2 - 1) + x*(2*s**2*t**2 - 2*s**2*t + s**2 - 2*t**2 + 2*t + exp(2*t) - 1))*exp(2*t)/(s**4 + 4*s**2*t**2*exp(2*t) + 2*s**2*exp(2*t) - 2*s**2 - 4*t**2*exp(2*t) + exp(4*t) - 2*exp(2*t) + 1)"
      ]
     },
     "execution_count": 108,
     "metadata": {},
     "output_type": "execute_result"
    }
   ],
   "source": [
    "score[0]"
   ]
  },
  {
   "cell_type": "code",
   "execution_count": 109,
   "metadata": {},
   "outputs": [
    {
     "data": {
      "text/latex": [
       "$\\displaystyle \\left[\\begin{matrix}\\frac{2 \\cdot \\left(2 \\cdot \\left(2 t^{2} v \\left(s^{2} - 1\\right) + x \\left(2 s^{2} t^{2} - 2 s^{2} t + s^{2} - 2 t^{2} + 2 t + e^{2 t} - 1\\right)\\right) \\left(2 s^{2} t^{2} + 2 s^{2} t + s^{2} - 2 t^{2} - 2 t + e^{2 t} - 1\\right) e^{2 t} - \\left(2 t^{2} v \\left(s^{2} - 1\\right) + 2 t v \\left(s^{2} - 1\\right) + x \\left(2 s^{2} t - s^{2} - 2 t + e^{2 t} + 1\\right) + x \\left(2 s^{2} t^{2} - 2 s^{2} t + s^{2} - 2 t^{2} + 2 t + e^{2 t} - 1\\right)\\right) \\left(s^{4} + 4 s^{2} t^{2} e^{2 t} + 2 s^{2} e^{2 t} - 2 s^{2} - 4 t^{2} e^{2 t} + e^{4 t} - 2 e^{2 t} + 1\\right)\\right) e^{2 t}}{\\left(s^{4} + 4 s^{2} t^{2} e^{2 t} + 2 s^{2} e^{2 t} - 2 s^{2} - 4 t^{2} e^{2 t} + e^{4 t} - 2 e^{2 t} + 1\\right)^{2}}\\\\\\frac{4 \\left(\\left(2 s^{2} t^{2} + 2 s^{2} t + s^{2} - 2 t^{2} - 2 t + e^{2 t} - 1\\right) \\left(2 s^{2} t^{2} v + 2 s^{2} t^{2} x + 2 s^{2} t v + s^{2} v - 2 t^{2} v - 2 t^{2} x - 2 t v + v e^{2 t} - v\\right) e^{2 t} + \\left(s^{4} + 4 s^{2} t^{2} e^{2 t} + 2 s^{2} e^{2 t} - 2 s^{2} - 4 t^{2} e^{2 t} + e^{4 t} - 2 e^{2 t} + 1\\right) \\left(- s^{2} t^{2} v - s^{2} t^{2} x - 2 s^{2} t v - s^{2} t x - s^{2} v + t^{2} v + t^{2} x + 2 t v + t x - v e^{2 t} + v\\right)\\right) e^{2 t}}{\\left(s^{4} + 4 s^{2} t^{2} e^{2 t} + 2 s^{2} e^{2 t} - 2 s^{2} - 4 t^{2} e^{2 t} + e^{4 t} - 2 e^{2 t} + 1\\right)^{2}}\\end{matrix}\\right]$"
      ],
      "text/plain": [
       "Matrix([\n",
       "[2*(2*(2*t**2*v*(s**2 - 1) + x*(2*s**2*t**2 - 2*s**2*t + s**2 - 2*t**2 + 2*t + exp(2*t) - 1))*(2*s**2*t**2 + 2*s**2*t + s**2 - 2*t**2 - 2*t + exp(2*t) - 1)*exp(2*t) - (2*t**2*v*(s**2 - 1) + 2*t*v*(s**2 - 1) + x*(2*s**2*t - s**2 - 2*t + exp(2*t) + 1) + x*(2*s**2*t**2 - 2*s**2*t + s**2 - 2*t**2 + 2*t + exp(2*t) - 1))*(s**4 + 4*s**2*t**2*exp(2*t) + 2*s**2*exp(2*t) - 2*s**2 - 4*t**2*exp(2*t) + exp(4*t) - 2*exp(2*t) + 1))*exp(2*t)/(s**4 + 4*s**2*t**2*exp(2*t) + 2*s**2*exp(2*t) - 2*s**2 - 4*t**2*exp(2*t) + exp(4*t) - 2*exp(2*t) + 1)**2],\n",
       "[                            4*((2*s**2*t**2 + 2*s**2*t + s**2 - 2*t**2 - 2*t + exp(2*t) - 1)*(2*s**2*t**2*v + 2*s**2*t**2*x + 2*s**2*t*v + s**2*v - 2*t**2*v - 2*t**2*x - 2*t*v + v*exp(2*t) - v)*exp(2*t) + (s**4 + 4*s**2*t**2*exp(2*t) + 2*s**2*exp(2*t) - 2*s**2 - 4*t**2*exp(2*t) + exp(4*t) - 2*exp(2*t) + 1)*(-s**2*t**2*v - s**2*t**2*x - 2*s**2*t*v - s**2*t*x - s**2*v + t**2*v + t**2*x + 2*t*v + t*x - v*exp(2*t) + v))*exp(2*t)/(s**4 + 4*s**2*t**2*exp(2*t) + 2*s**2*exp(2*t) - 2*s**2 - 4*t**2*exp(2*t) + exp(4*t) - 2*exp(2*t) + 1)**2]])"
      ]
     },
     "execution_count": 109,
     "metadata": {},
     "output_type": "execute_result"
    }
   ],
   "source": [
    "partial_t = sp.simplify(sp.diff(score, t))\n",
    "partial_t"
   ]
  },
  {
   "cell_type": "code",
   "execution_count": 110,
   "metadata": {},
   "outputs": [
    {
     "data": {
      "text/latex": [
       "$\\displaystyle \\frac{2 \\left(s^{4} + 4 s^{2} t^{2} e^{2 t} + 2 s^{2} e^{2 t} - 2 s^{2} - 4 t^{2} e^{2 t} + e^{4 t} - 2 e^{2 t} + 1\\right)^{2} + \\left(s^{4} + 4 s^{2} t^{2} e^{2 t} + 2 s^{2} e^{2 t} - 2 s^{2} - 4 t^{2} e^{2 t} + e^{4 t} - 2 e^{2 t} + 1\\right) \\left(- 4 s^{2} t^{2} - 4 s^{2} t - 2 s^{2} + 4 t^{2} + 4 t + v \\left(2 t^{2} v \\left(s^{2} - 1\\right) + x \\left(2 s^{2} t^{2} - 2 s^{2} t + s^{2} - 2 t^{2} + 2 t + e^{2 t} - 1\\right)\\right) - \\left(2 v + x\\right) \\left(2 s^{2} t^{2} v + 2 s^{2} t^{2} x + 2 s^{2} t v + s^{2} v - 2 t^{2} v - 2 t^{2} x - 2 t v + v e^{2 t} - v\\right) - 2 e^{2 t} + 2\\right) e^{2 t} + 2 \\left(2 s^{2} t^{2} v + 2 s^{2} t^{2} x + 2 s^{2} t v + s^{2} v - 2 t^{2} v - 2 t^{2} x - 2 t v + v e^{2 t} - v\\right)^{2} e^{4 t}}{\\left(s^{4} + 4 s^{2} t^{2} e^{2 t} + 2 s^{2} e^{2 t} - 2 s^{2} - 4 t^{2} e^{2 t} + e^{4 t} - 2 e^{2 t} + 1\\right)^{2}}$"
      ],
      "text/plain": [
       "(2*(s**4 + 4*s**2*t**2*exp(2*t) + 2*s**2*exp(2*t) - 2*s**2 - 4*t**2*exp(2*t) + exp(4*t) - 2*exp(2*t) + 1)**2 + (s**4 + 4*s**2*t**2*exp(2*t) + 2*s**2*exp(2*t) - 2*s**2 - 4*t**2*exp(2*t) + exp(4*t) - 2*exp(2*t) + 1)*(-4*s**2*t**2 - 4*s**2*t - 2*s**2 + 4*t**2 + 4*t + v*(2*t**2*v*(s**2 - 1) + x*(2*s**2*t**2 - 2*s**2*t + s**2 - 2*t**2 + 2*t + exp(2*t) - 1)) - (2*v + x)*(2*s**2*t**2*v + 2*s**2*t**2*x + 2*s**2*t*v + s**2*v - 2*t**2*v - 2*t**2*x - 2*t*v + v*exp(2*t) - v) - 2*exp(2*t) + 2)*exp(2*t) + 2*(2*s**2*t**2*v + 2*s**2*t**2*x + 2*s**2*t*v + s**2*v - 2*t**2*v - 2*t**2*x - 2*t*v + v*exp(2*t) - v)**2*exp(4*t))/(s**4 + 4*s**2*t**2*exp(2*t) + 2*s**2*exp(2*t) - 2*s**2 - 4*t**2*exp(2*t) + exp(4*t) - 2*exp(2*t) + 1)**2"
      ]
     },
     "execution_count": 110,
     "metadata": {},
     "output_type": "execute_result"
    }
   ],
   "source": [
    "sx, sv = score[0], score[1]\n",
    "\n",
    "f = sp.simplify(2 * sp.diff(sv, v) + 2 * sv**2 - v * sx + (x + 2 * v) * sv + 2)\n",
    "f"
   ]
  },
  {
   "cell_type": "code",
   "execution_count": 111,
   "metadata": {},
   "outputs": [],
   "source": [
    "grad_x, grad_v = sp.simplify(sp.diff(f,x)), sp.simplify(sp.diff(f,v))\n"
   ]
  },
  {
   "cell_type": "code",
   "execution_count": 112,
   "metadata": {},
   "outputs": [
    {
     "data": {
      "text/latex": [
       "$\\displaystyle 0$"
      ],
      "text/plain": [
       "0"
      ]
     },
     "execution_count": 112,
     "metadata": {},
     "output_type": "execute_result"
    }
   ],
   "source": [
    "partial_t[0] == grad_x\n",
    "partial_t[1] == grad_v\n",
    "\n",
    "a = sp.simplify(partial_t[0] - grad_x)\n",
    "b = sp.simplify(partial_t[1] - grad_v)\n",
    "\n",
    "a"
   ]
  },
  {
   "cell_type": "code",
   "execution_count": 113,
   "metadata": {},
   "outputs": [
    {
     "data": {
      "text/latex": [
       "$\\displaystyle 0$"
      ],
      "text/plain": [
       "0"
      ]
     },
     "execution_count": 113,
     "metadata": {},
     "output_type": "execute_result"
    }
   ],
   "source": [
    "b"
   ]
  },
  {
   "cell_type": "code",
   "execution_count": 156,
   "metadata": {},
   "outputs": [
    {
     "data": {
      "text/latex": [
       "$\\displaystyle \\left[\\begin{matrix}\\sqrt{a} & 0\\\\\\frac{b}{\\sqrt{a}} & \\sqrt{d - \\frac{b^{2}}{a}}\\end{matrix}\\right]$"
      ],
      "text/plain": [
       "Matrix([\n",
       "[  sqrt(a),                0],\n",
       "[b/sqrt(a), sqrt(d - b**2/a)]])"
      ]
     },
     "execution_count": 156,
     "metadata": {},
     "output_type": "execute_result"
    }
   ],
   "source": [
    "a = sp.Symbol('a')\n",
    "b = sp.Symbol('b')\n",
    "c = sp.Symbol('c')\n",
    "d = sp.Symbol('d')\n",
    "\n",
    "A = sp.Matrix([[a,b],[b,d]])\n",
    "A.cholesky(hermitian=False)"
   ]
  },
  {
   "cell_type": "code",
   "execution_count": 196,
   "metadata": {},
   "outputs": [
    {
     "name": "stdout",
     "output_type": "stream",
     "text": [
      "tensor([5.4975e-05])\n",
      "tensor([1.0001])\n",
      "tensor([0.9999])\n",
      "0.9999999403953552\n",
      "[[ 1.00000000e+00  5.49719844e-05]\n",
      " [-5.49719844e-05  9.99890089e-01]]\n",
      "[[-5.96046448e-08 -6.04516659e-09]\n",
      " [-6.04516659e-09  2.19821930e-04]]\n",
      "[[-5.96046451e-08  6.04149397e-09]\n",
      " [ 6.04149397e-09  2.19773612e-04]]\n"
     ]
    }
   ],
   "source": [
    "from utils.sde_lib import CLD\n",
    "import torch\n",
    "import numpy as np\n",
    "\n",
    "sde = CLD()\n",
    "\n",
    "t = torch.tensor([sde.delta])\n",
    "a,b,c,d = sde.marginal_prob_var_components(t)\n",
    "a,b,c,d = sde.get_exp_At_components(t)\n",
    "xx,xv,vv = sde.get_sig_components(t)\n",
    "\n",
    "mat1 = np.array([[a.item(),b.item()],\n",
    "                 [c.item(),d.item()]])\n",
    "mat2 = np.array(([xx.item(), xv.item()],\n",
    "                 [xv.item(), vv.item()]))\n",
    "\n",
    "b = sde.beta_int(t)\n",
    "print(b)\n",
    "print(torch.exp(2*b))\n",
    "print((2 * b**2 - 2 * b + 1))\n",
    "print(((2 * b**2 - 2 * b + 1) * torch.exp(2*b)).item())\n",
    "print(mat1)\n",
    "print(mat2)\n",
    "print(mat1 @ mat2 @ mat1.T)\n",
    "# print(f'{sde.delta : .3f} {sde.marginal_prob_std(torch.tensor([sde.delta]))}')"
   ]
  }
 ],
 "metadata": {
  "kernelspec": {
   "display_name": "kinetic-fp",
   "language": "python",
   "name": "python3"
  },
  "language_info": {
   "codemirror_mode": {
    "name": "ipython",
    "version": 3
   },
   "file_extension": ".py",
   "mimetype": "text/x-python",
   "name": "python",
   "nbconvert_exporter": "python",
   "pygments_lexer": "ipython3",
   "version": "3.12.2"
  }
 },
 "nbformat": 4,
 "nbformat_minor": 2
}
