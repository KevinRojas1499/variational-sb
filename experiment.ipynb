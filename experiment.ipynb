{
 "cells": [
  {
   "cell_type": "code",
   "execution_count": 1,
   "metadata": {},
   "outputs": [],
   "source": [
    "import torch\n",
    "import matplotlib.pyplot as plt\n",
    "\n",
    "import utils.datasets as datasets\n",
    "import utils.sde_lib as sdes\n",
    "from utils.models import MLP\n",
    "from utils.misc import dotdict, batch_matrix_product\n",
    "\n",
    "torch.set_printoptions(precision=3,sci_mode=False)"
   ]
  },
  {
   "cell_type": "markdown",
   "metadata": {},
   "source": []
  },
  {
   "cell_type": "code",
   "execution_count": 2,
   "metadata": {},
   "outputs": [
    {
     "name": "stdout",
     "output_type": "stream",
     "text": [
      "tensor([[ 0.640,  0.384],\n",
      "        [ 0.872, -0.143]], grad_fn=<ViewBackward0>)\n",
      "tensor([[ 25662.605,  14242.535],\n",
      "        [   -19.172,    -18.924],\n",
      "        [   -16.458,    -23.058],\n",
      "        [     2.911,     -1.796],\n",
      "        [   300.506,    165.546]], device='cuda:0')\n",
      "tensor([[-75813.070, -42109.562],\n",
      "        [    77.456,     18.439],\n",
      "        [    83.614,      5.121],\n",
      "        [    -0.026,    -10.137],\n",
      "        [  -884.664,   -495.035]], device='cuda:0')\n",
      "tensor([[-75813.070, -42109.562],\n",
      "        [    77.456,     18.439],\n",
      "        [    83.614,      5.121],\n",
      "        [    -0.026,    -10.137],\n",
      "        [  -884.664,   -495.035]], device='cuda:0')\n"
     ]
    }
   ],
   "source": [
    "device = torch.device('cuda' if torch.cuda.is_available() else 'cpu')\n",
    "n = 1000\n",
    "# covs = torch.tensor([[[3., -1.],[-1., 2.]], [[3., 1.8],[1.8, 2.]], [[3., -1.],[-1., 2.]]], device=device)\n",
    "# means = torch.tensor([[0,3.], [10,5.], [-6.,0]],device=device)\n",
    "# weights = torch.ones(means.shape[0],device=device)/means.shape[0]\n",
    "# gmm = GMM(weights,means,covs)\n",
    "dataset = datasets.get_dataset(dotdict({'dataset' : 'spiral'}))\n",
    "data = dataset.sample(5).to(device=device)\n",
    "\n",
    "sde = sdes.LinearSchrodingerBridge(2,device)\n",
    "model = MLP(2,False).to(device=device)\n",
    "\n",
    "eps = sde.delta\n",
    "times = (torch.rand((data.shape[0]),device=data.device) * (1-eps) + eps) * sde.T()\n",
    "shaped_t = times.reshape(-1,1,1,1) if len(data.shape) > 2 else times.reshape(-1,1)\n",
    "mean, L, invL = sde.marginal_prob(data,shaped_t)\n",
    "noise = torch.randn_like(mean,device=data.device)\n",
    "perturbed_data = mean + torch.bmm(L, noise.unsqueeze(-1)).squeeze(-1)\n",
    "flatten_error = ((torch.bmm(invL.mT, noise.unsqueeze(-1)).squeeze(-1) + model(perturbed_data,times))**2).view(data.shape[0],-1)\n",
    "\n",
    "\n",
    "std = (1-torch.exp(-sde.beta_int(shaped_t)))**.5\n",
    "\n",
    "# print(times)\n",
    "# print((std).cpu().numpy())\n",
    "# print(L[:,0,0].cpu().numpy())\n",
    "\n",
    "# print(L)\n",
    "# print(invL.mT)\n",
    "\n",
    "# print(perturbed_data)\n",
    "# print(torch.exp(-sde.beta_int(shaped_t)/2) * data + noise * std)\n",
    "\n",
    "# print(torch.bmm(invL.mT, noise.unsqueeze(-1)).squeeze(-1))\n",
    "# print(noise / std)\n",
    "\n",
    "# plt.scatter(data[:,0], data[:,1])\n",
    "# plt.show()\n",
    "\n",
    "\n",
    "print(-.5 * sde.beta(shaped_t) * perturbed_data)\n",
    "print(-.5 * sde.beta(shaped_t) * batch_matrix_product(sde.A(shaped_t),perturbed_data))\n",
    "print(sde.drift(perturbed_data,shaped_t))\n"
   ]
  },
  {
   "cell_type": "code",
   "execution_count": 3,
   "metadata": {},
   "outputs": [
    {
     "name": "stdout",
     "output_type": "stream",
     "text": [
      "tensor([[[ -6.260, -10.089],\n",
      "         [-10.089,   6.310]],\n",
      "\n",
      "        [[ -0.620,  -1.000],\n",
      "         [ -1.000,   0.625]],\n",
      "\n",
      "        [[ -0.418,  -0.673],\n",
      "         [ -0.673,   0.421]],\n",
      "\n",
      "        [[ -0.256,  -0.413],\n",
      "         [ -0.413,   0.258]],\n",
      "\n",
      "        [[ -4.715,  -7.600],\n",
      "         [ -7.600,   4.753]]], device='cuda:0')\n",
      "tensor([[[ 3.130,  5.045,  4.025,  0.000],\n",
      "         [ 5.045, -3.155,  0.000,  4.025],\n",
      "         [ 0.000,  0.000, -3.130, -5.045],\n",
      "         [ 0.000,  0.000, -5.045,  3.155]],\n",
      "\n",
      "        [[ 0.310,  0.500,  0.399,  0.000],\n",
      "         [ 0.500, -0.313,  0.000,  0.399],\n",
      "         [ 0.000,  0.000, -0.310, -0.500],\n",
      "         [ 0.000,  0.000, -0.500,  0.313]],\n",
      "\n",
      "        [[ 0.209,  0.337,  0.269,  0.000],\n",
      "         [ 0.337, -0.211,  0.000,  0.269],\n",
      "         [ 0.000,  0.000, -0.209, -0.337],\n",
      "         [ 0.000,  0.000, -0.337,  0.211]],\n",
      "\n",
      "        [[ 0.128,  0.207,  0.165,  0.000],\n",
      "         [ 0.207, -0.129,  0.000,  0.165],\n",
      "         [ 0.000,  0.000, -0.128, -0.207],\n",
      "         [ 0.000,  0.000, -0.207,  0.129]],\n",
      "\n",
      "        [[ 2.358,  3.800,  3.032,  0.000],\n",
      "         [ 3.800, -2.376,  0.000,  3.032],\n",
      "         [ 0.000,  0.000, -2.358, -3.800],\n",
      "         [ 0.000,  0.000, -3.800,  2.376]]], device='cuda:0')\n",
      "tensor([[[   287.828,    159.805,    128.405,     -1.133],\n",
      "         [   159.805,     88.729,     -1.133,    129.816],\n",
      "         [     0.000,      0.000,     90.962,   -163.828],\n",
      "         [     0.000,      0.000,   -163.828,    295.073]],\n",
      "\n",
      "        [[     1.506,      0.529,      0.422,     -0.000],\n",
      "         [     0.529,      0.848,     -0.000,      0.422],\n",
      "         [     0.000,      0.000,      0.850,     -0.530],\n",
      "         [     0.000,      0.000,     -0.530,      1.510]],\n",
      "\n",
      "        [[     1.294,      0.345,      0.276,     -0.000],\n",
      "         [     0.345,      0.864,     -0.000,      0.276],\n",
      "         [     0.000,      0.000,      0.865,     -0.346],\n",
      "         [     0.000,      0.000,     -0.346,      1.296]],\n",
      "\n",
      "        [[     1.159,      0.208,      0.166,     -0.000],\n",
      "         [     0.208,      0.899,     -0.000,      0.166],\n",
      "         [     0.000,      0.000,      0.900,     -0.209],\n",
      "         [     0.000,      0.000,     -0.209,      1.160]],\n",
      "\n",
      "        [[    66.606,     36.974,     29.666,     -0.184],\n",
      "         [    36.974,     20.540,     -0.184,     29.895],\n",
      "         [     0.000,      0.000,     20.928,    -37.673],\n",
      "         [     0.000,      0.000,    -37.673,     67.865]]], device='cuda:0')\n"
     ]
    }
   ],
   "source": [
    "t = shaped_t\n",
    "int_mat = sde.int_beta_ds(t)\n",
    "print(int_mat)\n",
    "dim = int_mat.shape[-1]\n",
    "C_H_power = torch.zeros((t.shape[0], 2 * dim, 2 * dim),device=int_mat.device)\n",
    "C_H_pair = torch.zeros_like(C_H_power)\n",
    "C_H_power[:,:dim, :dim] = -.5 * int_mat\n",
    "C_H_power[:,-dim:, -dim:] = .5 * int_mat\n",
    "C_H_power[:, :dim, dim:] = sde.beta_int(t).view(-1,1,1) * torch.eye(dim,device=int_mat.device).unsqueeze(0).expand(t.shape[0],-1,-1)\n",
    "\n",
    "\n",
    "print(C_H_power)\n",
    "C_H_pair = torch.linalg.matrix_exp(C_H_power)\n",
    "initial_cond = torch.cat((torch.zeros((dim,dim), device=int_mat.device), torch.eye(dim,device=int_mat.device)), dim=0)\n",
    "C_H = torch.einsum('tij,jk->tik', C_H_pair, initial_cond)\n",
    "C = C_H[:, : dim, :]\n",
    "H = C_H[:, dim: , :]\n",
    "cov = torch.einsum('tij,tjk->tik', C, torch.linalg.inv(H))\n",
    "L = torch.linalg.cholesky(cov)\n",
    "invL = torch.linalg.inv(L.mH)\n",
    "print(C_H_pair)"
   ]
  },
  {
   "cell_type": "code",
   "execution_count": 4,
   "metadata": {},
   "outputs": [
    {
     "name": "stdout",
     "output_type": "stream",
     "text": [
      "tensor([[[    0.347,     0.023],\n",
      "         [    0.023,     0.318]],\n",
      "\n",
      "        [[    1.526,     0.540],\n",
      "         [    0.540,     0.854]],\n",
      "\n",
      "        [[   10.729,     5.635],\n",
      "         [    5.635,     3.709]],\n",
      "\n",
      "        [[  198.567,   109.923],\n",
      "         [  109.923,    61.615]],\n",
      "\n",
      "        [[ 9604.091,  5330.760],\n",
      "         [ 5330.760,  2962.556]],\n",
      "\n",
      "        [[1201874.375, 667148.875],\n",
      "         [667148.875, 370681.062]]], device='cuda:0')\n",
      "tensor([[[     2.897,     -0.207],\n",
      "         [    -0.207,      3.155]],\n",
      "\n",
      "        [[     0.844,     -0.533],\n",
      "         [    -0.533,      1.509]],\n",
      "\n",
      "        [[     0.461,     -0.700],\n",
      "         [    -0.700,      1.333]],\n",
      "\n",
      "        [[     0.406,     -0.724],\n",
      "         [    -0.724,      1.308]],\n",
      "\n",
      "        [[     0.083,     -0.150],\n",
      "         [    -0.150,      0.269]],\n",
      "\n",
      "        [[     0.001,     -0.002],\n",
      "         [    -0.002,      0.003]]], device='cuda:0')\n"
     ]
    }
   ],
   "source": [
    "ts = torch.linspace(.1,sde.T(), 6,device=device).unsqueeze(-1)\n",
    "cov, L, invL = sde.compute_variance(ts)\n",
    "print(L)\n",
    "print(invL)"
   ]
  },
  {
   "cell_type": "code",
   "execution_count": 5,
   "metadata": {},
   "outputs": [
    {
     "data": {
      "image/png": "[encoded data removed]",
      "text/plain": [
       "<Figure size 640x480 with 1 Axes>"
      ]
     },
     "metadata": {},
     "output_type": "display_data"
    }
   ],
   "source": [
    "x = torch.randn((1000,2),device=device)\n",
    "steps = 100\n",
    "times = torch.linspace(0,sde.T(),steps=steps, device=device)\n",
    "dt = sde.T()/steps\n",
    "for i in range(steps):\n",
    "    ti = times[i].expand(x.shape[0],1)\n",
    "    x = x + sde.drift(x,ti) * dt + sde.diffusion(x,ti) * torch.randn_like(x) * dt**.5\n",
    "\n",
    "prior = sde.prior_sampling((1000,2),device)\n",
    "plt.scatter(x[:,0].cpu().numpy(), x[:,1].cpu().numpy())\n",
    "plt.scatter(prior[:,0].cpu().numpy(), prior[:,1].cpu().numpy())\n",
    "# plt.savefig(f'./trajectory/{i}.png')\n",
    "# plt.close()\n",
    "plt.show()"
   ]
  },
  {
   "cell_type": "markdown",
   "metadata": {},
   "source": []
  }
 ],
 "metadata": {
  "kernelspec": {
   "display_name": "variational",
   "language": "python",
   "name": "python3"
  },
  "language_info": {
   "codemirror_mode": {
    "name": "ipython",
    "version": 3
   },
   "file_extension": ".py",
   "mimetype": "text/x-python",
   "name": "python",
   "nbconvert_exporter": "python",
   "pygments_lexer": "ipython3",
   "version": "3.11.7"
  }
 },
 "nbformat": 4,
 "nbformat_minor": 2
}
