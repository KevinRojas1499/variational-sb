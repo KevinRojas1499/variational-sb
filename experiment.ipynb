{
 "cells": [
  {
   "cell_type": "code",
   "execution_count": 1,
   "metadata": {},
   "outputs": [],
   "source": [
    "import torch\n",
    "import matplotlib.pyplot as plt\n",
    "import torch.nn as nn\n",
    "import os\n",
    "\n",
    "import datasets.toy_datasets as datasets\n",
    "import utils.sde_lib as sdes\n",
    "from utils.model_utils import get_preconditioned_model\n",
    "from utils.models import MLP\n",
    "from utils.misc import dotdict, batch_matrix_product\n",
    "\n",
    "torch.set_printoptions(precision=3,sci_mode=False)"
   ]
  },
  {
   "cell_type": "markdown",
   "metadata": {},
   "source": []
  },
  {
   "cell_type": "code",
   "execution_count": 5,
   "metadata": {},
   "outputs": [],
   "source": [
    "device = torch.device('cuda:0' if torch.cuda.is_available() else 'cpu')\n",
    "is_sb = False\n",
    "is_cld = True\n",
    "if is_sb:\n",
    "    model_path = './checkpoints/spiral_sb_linear/itr_2000'\n",
    "    model_path = './exp/itr_2000'\n",
    "    \n",
    "    backward_score = torch.load(os.path.join(model_path,'backward_ema_2000.pt'))\n",
    "    forward_score = torch.load(os.path.join(model_path,'forward_ema_2000.pt'))\n",
    "    sde = sdes.LinearSchrodingerBridge(forward_model=forward_score,backward_model=backward_score)\n",
    "else:\n",
    "    model_path = f'./checkpoints/spiral-{'cld' if is_cld else 'vp'}/itr_15000'\n",
    "    backward_score = torch.load(os.path.join(model_path,'backward_ema.pt'))\n",
    "    sde = sdes.CLD(model_backward=backward_score) \\\n",
    "        if is_cld else sdes.VP(model_backward=backward_score)\n",
    "    backward_score = get_preconditioned_model(backward_score, sde)\n",
    "    sde.backward_score = backward_score    "
   ]
  },
  {
   "cell_type": "code",
   "execution_count": 8,
   "metadata": {},
   "outputs": [],
   "source": [
    "def plot_trajectories(traj):\n",
    "    for i in range(traj.shape[1]):\n",
    "        plt.clf()\n",
    "        plt.scatter(traj[:,i,0].detach().cpu(), traj[:,i,1].detach().cpu())\n",
    "        plt.xlim(-9,12)\n",
    "        plt.ylim(-13,15)\n",
    "        plt.savefig(f'trajectory/{i}.png')\n",
    "    plt.clf()\n",
    "\n",
    "dataset = datasets.Spiral()\n",
    "n_samples = 50\n",
    "in_cond = dataset.sample(n_samples).to(device=device)\n",
    "if isinstance(sde,sdes.CLD):\n",
    "    in_cond = torch.cat((in_cond,torch.randn_like(in_cond)),dim=1)\n",
    "shape = (n_samples,4 if is_cld else 2)\n",
    "xt, traj = sde.sample(shape, device, backward=True, in_cond=in_cond,prob_flow=True, return_traj=True)\n",
    "\n",
    "plot_trajectories(traj)\n",
    "\n",
    "for i in range(traj.shape[0]):\n",
    "    xi = traj[i]\n",
    "    plt.plot(xi[:,0].cpu(), xi[:,1].cpu(), linewidth=1, alpha=.3)\n",
    "\n",
    "plt.scatter(traj[:,0,0].cpu(), traj[:,0,1].cpu(),s=3, label='start',zorder=1010)\n",
    "plt.scatter(traj[:,-1:,0].cpu(), traj[:,-1,1].cpu(), s=3,label='end')\n",
    "plt.xlim(-9,12)\n",
    "plt.ylim(-13,15)\n",
    "plt.legend()\n",
    "plt.show()"
   ]
  },
  {
   "cell_type": "code",
   "execution_count": 4,
   "metadata": {},
   "outputs": [
    {
     "name": "stderr",
     "output_type": "stream",
     "text": [
      "/home/kevin/anaconda3/envs/variational/lib/python3.12/site-packages/torch/functional.py:512: UserWarning: torch.meshgrid: in an upcoming release, it will be required to pass the indexing argument. (Triggered internally at ../aten/src/ATen/native/TensorShape.cpp:3587.)\n",
      "  return _VF.meshgrid(tensors, **kwargs)  # type: ignore[attr-defined]\n",
      "/home/kevin/.local/lib/python3.12/site-packages/matplotlib/quiver.py:628: RuntimeWarning: Mean of empty slice.\n",
      "  amean = a[~self.Umask].mean()\n",
      "/home/kevin/.local/lib/python3.12/site-packages/numpy/core/_methods.py:129: RuntimeWarning: invalid value encountered in divide\n",
      "  ret = ret.dtype.type(ret / rcount)\n"
     ]
    },
    {
     "data": {
      "text/plain": [
       "<Figure size 640x480 with 0 Axes>"
      ]
     },
     "metadata": {},
     "output_type": "display_data"
    }
   ],
   "source": [
    "n_pts = 20\n",
    "x_pts = torch.linspace(-5,5,n_pts,device=device)#.view(-1,1)\n",
    "y_pts = torch.linspace(-27,32,n_pts, device=device)#.view(-1,1)\n",
    "x_pts, y_pts = torch.meshgrid((x_pts,y_pts))\n",
    "x_pts = x_pts.reshape(-1,1)\n",
    "y_pts = y_pts.reshape(-1,1)\n",
    "z_pts = torch.cat((x_pts,y_pts),dim=-1)\n",
    "n_time = 100\n",
    "times = torch.linspace(0,1,n_time,device=device).unsqueeze(-1)\n",
    "dt = 1/n_time\n",
    "xt = dataset.sample(1000).to(device=device)\n",
    "noise = torch.randn_like(xt)\n",
    "for i,t in enumerate(times):\n",
    "    t_shape = t.expand(z_pts.shape[0]).unsqueeze(-1)\n",
    "    \n",
    "    vector_field = sde.probability_flow_drift(z_pts,t_shape)\n",
    "    plt.xlim(-27,32)\n",
    "    plt.ylim(-27,32)\n",
    "    plt.quiver(x_pts.cpu(),y_pts.cpu(),vector_field[:,0].cpu(),vector_field[:,1].cpu())\n",
    "    plt.scatter(xt[:,0].cpu(), xt[:,1].cpu(),alpha=.3)\n",
    "    plt.scatter(noise[:,0].cpu(), noise[:,1].cpu(),alpha=.1)\n",
    "    plt.savefig(f'./vector-field/{i}.png')\n",
    "    plt.clf()\n",
    "    xt = xt + sde.probability_flow_drift(xt,t.expand(xt.shape[0]).unsqueeze(-1)) * dt\n"
   ]
  },
  {
   "cell_type": "markdown",
   "metadata": {},
   "source": []
  }
 ],
 "metadata": {
  "kernelspec": {
   "display_name": "variational",
   "language": "python",
   "name": "python3"
  },
  "language_info": {
   "codemirror_mode": {
    "name": "ipython",
    "version": 3
   },
   "file_extension": ".py",
   "mimetype": "text/x-python",
   "name": "python",
   "nbconvert_exporter": "python",
   "pygments_lexer": "ipython3",
   "version": "3.12.4"
  }
 },
 "nbformat": 4,
 "nbformat_minor": 2
}
