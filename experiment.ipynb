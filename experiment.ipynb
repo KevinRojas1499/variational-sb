{
 "cells": [
  {
   "cell_type": "code",
   "execution_count": 2,
   "metadata": {},
   "outputs": [],
   "source": [
    "import torch\n",
    "import matplotlib.pyplot as plt\n",
    "\n",
    "import utils.datasets as datasets\n",
    "import utils.sde_lib as sdes\n",
    "from utils.models import MLP\n",
    "from utils.misc import dotdict, batch_matrix_product"
   ]
  },
  {
   "cell_type": "markdown",
   "metadata": {},
   "source": []
  },
  {
   "cell_type": "code",
   "execution_count": 3,
   "metadata": {},
   "outputs": [
    {
     "name": "stdout",
     "output_type": "stream",
     "text": [
      "tensor([[ -2.4053,   4.3565],\n",
      "        [  0.8878, -22.4874],\n",
      "        [ 28.6109, -21.3989],\n",
      "        [  0.8091, -10.4750],\n",
      "        [ 16.9493,  25.1220]], device='cuda:0')\n",
      "tensor([[ -2.4053,   4.3565],\n",
      "        [  0.8878, -22.4874],\n",
      "        [ 28.6109, -21.3989],\n",
      "        [  0.8091, -10.4750],\n",
      "        [ 16.9493,  25.1220]], device='cuda:0')\n",
      "tensor([[ -2.4053,   4.3565],\n",
      "        [  0.8878, -22.4874],\n",
      "        [ 28.6109, -21.3989],\n",
      "        [  0.8091, -10.4750],\n",
      "        [ 16.9493,  25.1220]], device='cuda:0')\n"
     ]
    }
   ],
   "source": [
    "device = torch.device('cuda' if torch.cuda.is_available() else 'cpu')\n",
    "n = 1000\n",
    "# covs = torch.tensor([[[3., -1.],[-1., 2.]], [[3., 1.8],[1.8, 2.]], [[3., -1.],[-1., 2.]]], device=device)\n",
    "# means = torch.tensor([[0,3.], [10,5.], [-6.,0]],device=device)\n",
    "# weights = torch.ones(means.shape[0],device=device)/means.shape[0]\n",
    "# gmm = GMM(weights,means,covs)\n",
    "dataset = datasets.get_dataset(dotdict({'dataset' : 'spiral'}))\n",
    "data = dataset.sample(5).to(device=device)\n",
    "\n",
    "sde = sdes.LinearSchrodingerBridge(2,device)\n",
    "model = MLP(2,False).to(device=device)\n",
    "\n",
    "eps = sde.delta\n",
    "times = (torch.rand((data.shape[0]),device=data.device) * (1-eps) + eps) * sde.T()\n",
    "shaped_t = times.reshape(-1,1,1,1) if len(data.shape) > 2 else times.reshape(-1,1)\n",
    "mean, L, invL = sde.marginal_prob(data,shaped_t)\n",
    "noise = torch.randn_like(mean,device=data.device)\n",
    "perturbed_data = mean + torch.bmm(L, noise.unsqueeze(-1)).squeeze(-1)\n",
    "flatten_error = ((torch.bmm(invL.mT, noise.unsqueeze(-1)).squeeze(-1) + model(perturbed_data,times))**2).view(data.shape[0],-1)\n",
    "\n",
    "\n",
    "std = (1-torch.exp(-sde.beta_int(shaped_t)))**.5\n",
    "\n",
    "# print(times)\n",
    "# print((std).cpu().numpy())\n",
    "# print(L[:,0,0].cpu().numpy())\n",
    "\n",
    "# print(L)\n",
    "# print(invL.mT)\n",
    "\n",
    "# print(perturbed_data)\n",
    "# print(torch.exp(-sde.beta_int(shaped_t)/2) * data + noise * std)\n",
    "\n",
    "# print(torch.bmm(invL.mT, noise.unsqueeze(-1)).squeeze(-1))\n",
    "# print(noise / std)\n",
    "\n",
    "# plt.scatter(data[:,0], data[:,1])\n",
    "# plt.show()\n",
    "\n",
    "\n",
    "print(-.5 * sde.beta(shaped_t) * perturbed_data)\n",
    "print(-.5 * sde.beta(shaped_t) * batch_matrix_product(sde.A(shaped_t),perturbed_data))\n",
    "print(sde.drift(perturbed_data,shaped_t))\n"
   ]
  },
  {
   "cell_type": "code",
   "execution_count": 17,
   "metadata": {},
   "outputs": [
    {
     "name": "stdout",
     "output_type": "stream",
     "text": [
      "tensor([[[3.3996e-01, 0.0000e+00, 2.6041e+00, 0.0000e+00],\n",
      "         [0.0000e+00, 3.3996e-01, 0.0000e+00, 2.6041e+00],\n",
      "         [0.0000e+00, 0.0000e+00, 2.9415e+00, 0.0000e+00],\n",
      "         [0.0000e+00, 0.0000e+00, 0.0000e+00, 2.9415e+00]],\n",
      "\n",
      "        [[7.9546e-01, 0.0000e+00, 4.6211e-01, 0.0000e+00],\n",
      "         [0.0000e+00, 7.9546e-01, 0.0000e+00, 4.6211e-01],\n",
      "         [0.0000e+00, 0.0000e+00, 1.2571e+00, 0.0000e+00],\n",
      "         [0.0000e+00, 0.0000e+00, 0.0000e+00, 1.2571e+00]],\n",
      "\n",
      "        [[2.4771e-02, 0.0000e+00, 4.0385e+01, 0.0000e+00],\n",
      "         [0.0000e+00, 2.4771e-02, 0.0000e+00, 4.0385e+01],\n",
      "         [0.0000e+00, 0.0000e+00, 4.0370e+01, 0.0000e+00],\n",
      "         [0.0000e+00, 0.0000e+00, 0.0000e+00, 4.0370e+01]],\n",
      "\n",
      "        [[6.3683e-02, 0.0000e+00, 1.5654e+01, 0.0000e+00],\n",
      "         [0.0000e+00, 6.3683e-02, 0.0000e+00, 1.5654e+01],\n",
      "         [0.0000e+00, 0.0000e+00, 1.5703e+01, 0.0000e+00],\n",
      "         [0.0000e+00, 0.0000e+00, 0.0000e+00, 1.5703e+01]],\n",
      "\n",
      "        [[3.3490e-01, 0.0000e+00, 2.6537e+00, 0.0000e+00],\n",
      "         [0.0000e+00, 3.3490e-01, 0.0000e+00, 2.6537e+00],\n",
      "         [0.0000e+00, 0.0000e+00, 2.9860e+00, 0.0000e+00],\n",
      "         [0.0000e+00, 0.0000e+00, 0.0000e+00, 2.9860e+00]]], device='cuda:0')\n"
     ]
    }
   ],
   "source": [
    "t = shaped_t\n",
    "int_mat = sde.int_beta_ds(t)\n",
    "dim = int_mat.shape[-1]\n",
    "C_H_power = torch.zeros((t.shape[0], 2 * dim, 2 * dim),device=int_mat.device)\n",
    "C_H_pair = torch.zeros_like(C_H_power)\n",
    "C_H_power[:,:dim, :dim] = -.5 * int_mat\n",
    "C_H_power[:,-dim:, -dim:] = .5 * int_mat\n",
    "C_H_power[:, :dim, dim:] = sde.beta_int(t).view(-1,1,1) * torch.eye(dim,device=int_mat.device).unsqueeze(0).expand(t.shape[0],-1,-1)\n",
    "\n",
    "\n",
    "# print(C_H_power)\n",
    "C_H_pair = torch.linalg.matrix_exp(C_H_power)\n",
    "\n",
    "print(C_H_pair)"
   ]
  },
  {
   "cell_type": "code",
   "execution_count": 18,
   "metadata": {},
   "outputs": [
    {
     "name": "stdout",
     "output_type": "stream",
     "text": [
      "tensor([[[3.3996e-01, 0.0000e+00, 2.6041e+00, 0.0000e+00],\n",
      "         [0.0000e+00, 3.3996e-01, 0.0000e+00, 2.6041e+00],\n",
      "         [0.0000e+00, 0.0000e+00, 2.9415e+00, 0.0000e+00],\n",
      "         [0.0000e+00, 0.0000e+00, 0.0000e+00, 2.9415e+00]],\n",
      "\n",
      "        [[7.9546e-01, 0.0000e+00, 4.6211e-01, 0.0000e+00],\n",
      "         [0.0000e+00, 7.9546e-01, 0.0000e+00, 4.6211e-01],\n",
      "         [0.0000e+00, 0.0000e+00, 1.2571e+00, 0.0000e+00],\n",
      "         [0.0000e+00, 0.0000e+00, 0.0000e+00, 1.2571e+00]],\n",
      "\n",
      "        [[2.4771e-02, 0.0000e+00, 4.0385e+01, 0.0000e+00],\n",
      "         [0.0000e+00, 2.4771e-02, 0.0000e+00, 4.0385e+01],\n",
      "         [0.0000e+00, 0.0000e+00, 4.0370e+01, 0.0000e+00],\n",
      "         [0.0000e+00, 0.0000e+00, 0.0000e+00, 4.0370e+01]],\n",
      "\n",
      "        [[6.3683e-02, 0.0000e+00, 1.5654e+01, 0.0000e+00],\n",
      "         [0.0000e+00, 6.3683e-02, 0.0000e+00, 1.5654e+01],\n",
      "         [0.0000e+00, 0.0000e+00, 1.5703e+01, 0.0000e+00],\n",
      "         [0.0000e+00, 0.0000e+00, 0.0000e+00, 1.5703e+01]],\n",
      "\n",
      "        [[3.3490e-01, 0.0000e+00, 2.6537e+00, 0.0000e+00],\n",
      "         [0.0000e+00, 3.3490e-01, 0.0000e+00, 2.6537e+00],\n",
      "         [0.0000e+00, 0.0000e+00, 2.9860e+00, 0.0000e+00],\n",
      "         [0.0000e+00, 0.0000e+00, 0.0000e+00, 2.9860e+00]]], device='cuda:0')\n"
     ]
    }
   ],
   "source": [
    "int_mat = sde.int_beta_ds(t)\n",
    "dim = int_mat.shape[-1]\n",
    "C_H_power = torch.zeros((t.shape[0], 2 * dim, 2 * dim),device=int_mat.device)\n",
    "C_H_pair = torch.zeros_like(C_H_power)\n",
    "\n",
    "for i in range(t.shape[0]):\n",
    "    C_H_power[i] = torch.block_diag(-.5 * int_mat[i], .5 * int_mat[i].T)\n",
    "    C_H_power[i, :dim, dim:] = sde.beta_int(t[i]) * torch.eye(dim,device=int_mat.device).unsqueeze(0)\n",
    "    C_H_pair[i] = torch.linalg.matrix_exp(C_H_power[i])\n",
    "print(C_H_pair)"
   ]
  },
  {
   "cell_type": "markdown",
   "metadata": {},
   "source": []
  }
 ],
 "metadata": {
  "kernelspec": {
   "display_name": "variational",
   "language": "python",
   "name": "python3"
  },
  "language_info": {
   "codemirror_mode": {
    "name": "ipython",
    "version": 3
   },
   "file_extension": ".py",
   "mimetype": "text/x-python",
   "name": "python",
   "nbconvert_exporter": "python",
   "pygments_lexer": "ipython3",
   "version": "3.11.7"
  }
 },
 "nbformat": 4,
 "nbformat_minor": 2
}
