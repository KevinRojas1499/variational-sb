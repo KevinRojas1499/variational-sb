{
 "cells": [
  {
   "cell_type": "code",
   "execution_count": 9,
   "metadata": {},
   "outputs": [],
   "source": [
    "import torch\n",
    "import matplotlib.pyplot as plt\n",
    "\n",
    "import utils.datasets as datasets\n",
    "import utils.sde_lib as sdes\n",
    "from utils.models import MLP\n",
    "from utils.misc import dotdict "
   ]
  },
  {
   "cell_type": "markdown",
   "metadata": {},
   "source": []
  },
  {
   "cell_type": "code",
   "execution_count": 26,
   "metadata": {},
   "outputs": [
    {
     "name": "stdout",
     "output_type": "stream",
     "text": [
      "tensor([[ -0.8638,   0.3381],\n",
      "        [-17.8266,  -9.2867],\n",
      "        [ -0.7868,  -0.1076],\n",
      "        [  2.1691,  -1.3685],\n",
      "        [  0.0546,  -2.2348]], device='cuda:0')\n",
      "tensor([[ -0.8641,   0.3383],\n",
      "        [-17.8268,  -9.2868],\n",
      "        [ -0.7870,  -0.1076],\n",
      "        [  2.1697,  -1.3688],\n",
      "        [  0.0546,  -2.2354]], device='cuda:0')\n"
     ]
    }
   ],
   "source": [
    "device = torch.device('cuda' if torch.cuda.is_available() else 'cpu')\n",
    "n = 1000\n",
    "# covs = torch.tensor([[[3., -1.],[-1., 2.]], [[3., 1.8],[1.8, 2.]], [[3., -1.],[-1., 2.]]], device=device)\n",
    "# means = torch.tensor([[0,3.], [10,5.], [-6.,0]],device=device)\n",
    "# weights = torch.ones(means.shape[0],device=device)/means.shape[0]\n",
    "# gmm = GMM(weights,means,covs)\n",
    "dataset = datasets.get_dataset(dotdict({'dataset' : 'spiral'}))\n",
    "data = dataset.sample(5).to(device=device)\n",
    "\n",
    "sde = sdes.LinearSchrodingerBridge(2,device)\n",
    "model = MLP(2,False).to(device=device)\n",
    "\n",
    "eps = sde.delta\n",
    "times = (torch.rand((data.shape[0]),device=data.device) * (1-eps) + eps) * sde.T()\n",
    "shaped_t = times.reshape(-1,1,1,1) if len(data.shape) > 2 else times.reshape(-1,1)\n",
    "mean, L, invL = sde.marginal_prob(data,shaped_t)\n",
    "noise = torch.randn_like(mean,device=data.device)\n",
    "perturbed_data = mean + torch.bmm(L, noise.unsqueeze(-1)).squeeze(-1)\n",
    "flatten_error = ((torch.bmm(invL.mT, noise.unsqueeze(-1)).squeeze(-1) + model(perturbed_data,times))**2).view(data.shape[0],-1)\n",
    "\n",
    "\n",
    "std = (1-torch.exp(-sde.beta_int(shaped_t)))**.5\n",
    "\n",
    "# print(times)\n",
    "# print((std).cpu().numpy())\n",
    "# print(L[:,0,0].cpu().numpy())\n",
    "\n",
    "# print(L)\n",
    "# print(invL.mT)\n",
    "\n",
    "# print(perturbed_data)\n",
    "# print(torch.exp(-sde.beta_int(shaped_t)/2) * data + noise * std)\n",
    "\n",
    "print(torch.bmm(invL.mT, noise.unsqueeze(-1)).squeeze(-1))\n",
    "print(noise / std)\n",
    "\n",
    "# plt.scatter(data[:,0], data[:,1])\n",
    "# plt.show()\n",
    "\n"
   ]
  },
  {
   "cell_type": "markdown",
   "metadata": {},
   "source": []
  }
 ],
 "metadata": {
  "kernelspec": {
   "display_name": "variational",
   "language": "python",
   "name": "python3"
  },
  "language_info": {
   "codemirror_mode": {
    "name": "ipython",
    "version": 3
   },
   "file_extension": ".py",
   "mimetype": "text/x-python",
   "name": "python",
   "nbconvert_exporter": "python",
   "pygments_lexer": "ipython3",
   "version": "3.11.7"
  }
 },
 "nbformat": 4,
 "nbformat_minor": 2
}
