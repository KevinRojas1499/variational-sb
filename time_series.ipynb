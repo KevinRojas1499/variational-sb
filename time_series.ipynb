{
 "cells": [
  {
   "cell_type": "code",
   "execution_count": 1,
   "metadata": {},
   "outputs": [
    {
     "data": {
      "text/plain": [
       "['tourism_yearly',\n",
       " 'ett_small_1h',\n",
       " 'm4_hourly',\n",
       " 'australian_electricity_demand',\n",
       " 'temperature_rain_without_missing',\n",
       " 'm4_monthly',\n",
       " 'dominick',\n",
       " 'm1_monthly',\n",
       " 'covid_deaths',\n",
       " 'electricity',\n",
       " 'taxi_30min',\n",
       " 'm3_quarterly',\n",
       " 'nn5_daily_with_missing',\n",
       " 'm4_yearly',\n",
       " 'uber_tlc_daily',\n",
       " 'saugeenday',\n",
       " 'kaggle_web_traffic_with_missing',\n",
       " 'tourism_quarterly',\n",
       " 'ett_small_15min',\n",
       " 'm4_quarterly',\n",
       " 'traffic',\n",
       " 'hospital',\n",
       " 'fred_md',\n",
       " 'electricity_weekly',\n",
       " 'tourism_monthly',\n",
       " 'cif_2016',\n",
       " 'm4_daily',\n",
       " 'rideshare_without_missing',\n",
       " 'weather',\n",
       " 'solar_10_minutes',\n",
       " 'electricity_nips',\n",
       " 'm5',\n",
       " 'pedestrian_counts',\n",
       " 'm3_monthly',\n",
       " 'm1_quarterly',\n",
       " 'kaggle_web_traffic_weekly',\n",
       " 'traffic_nips',\n",
       " 'vehicle_trips_without_missing',\n",
       " 'm3_other',\n",
       " 'm3_yearly',\n",
       " 'electricity_hourly',\n",
       " 'm4_weekly',\n",
       " 'solar_nips',\n",
       " 'uber_tlc_hourly',\n",
       " 'sunspot_without_missing',\n",
       " 'exchange_rate_nips',\n",
       " 'm1_yearly',\n",
       " 'wiki2000_nips',\n",
       " 'london_smart_meters_without_missing',\n",
       " 'airpassengers',\n",
       " 'car_parts_without_missing',\n",
       " 'solar_weekly',\n",
       " 'wind_farms_without_missing',\n",
       " 'kdd_cup_2018_without_missing',\n",
       " 'nn5_daily_without_missing',\n",
       " 'nn5_weekly',\n",
       " 'constant',\n",
       " 'exchange_rate',\n",
       " 'solar-energy',\n",
       " 'kaggle_web_traffic_without_missing',\n",
       " 'wiki-rolling_nips',\n",
       " 'ercot']"
      ]
     },
     "execution_count": 1,
     "metadata": {},
     "output_type": "execute_result"
    }
   ],
   "source": [
    "from gluonts.dataset.repository.datasets import get_dataset, dataset_recipes\n",
    "list(set(dataset_recipes.keys()))\n"
   ]
  }
 ],
 "metadata": {
  "kernelspec": {
   "display_name": "kinetic-fp",
   "language": "python",
   "name": "python3"
  },
  "language_info": {
   "codemirror_mode": {
    "name": "ipython",
    "version": 3
   },
   "file_extension": ".py",
   "mimetype": "text/x-python",
   "name": "python",
   "nbconvert_exporter": "python",
   "pygments_lexer": "ipython3",
   "version": "3.12.4"
  }
 },
 "nbformat": 4,
 "nbformat_minor": 2
}
