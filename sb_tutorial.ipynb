{
 "cells": [
  {
   "cell_type": "code",
   "execution_count": 1,
   "metadata": {},
   "outputs": [],
   "source": [
    "import torch\n",
    "from tqdm import tqdm\n",
    "import matplotlib.pyplot as plt\n",
    "import os \n",
    "\n",
    "import utils.sde_lib\n",
    "import utils.models\n",
    "import utils.losses as losses\n",
    "from utils.datasets import get_dataset\n",
    "import utils.samplers\n",
    "from utils.misc import dotdict, batch_matrix_product"
   ]
  },
  {
   "cell_type": "code",
   "execution_count": 2,
   "metadata": {},
   "outputs": [],
   "source": [
    "opts =  dotdict({\n",
    "    'dataset': 'gmm',\n",
    "    'lr' : 3e-4,\n",
    "    'num_iters' : 1000,\n",
    "    'batch_size' : 512, \n",
    "    \n",
    "})\n",
    "device = torch.device('cuda' if torch.cuda.is_available() else 'cpu')\n",
    "dataset = get_dataset(opts)\n",
    "dim = dataset.dim\n",
    "model_backward = utils.models.MLP(dim=dim,augmented_sde=False).to(device=device)\n",
    "model_forward = utils.models.MatrixTimeEmbedding(4,2).to(device=device)\n",
    "itr=500\n",
    "model_path = f'./exp/momentum/itr_{itr}'\n",
    "\n",
    "model_backward = torch.load(os.path.join(model_path,f'backward_ema_{itr}.pt'))\n",
    "model_forward = torch.load(os.path.join(model_path,f'forward_ema_{itr}.pt'))\n",
    "sde = utils.sde_lib.LinearMomentumSchrodingerBridge()\n",
    "sde.backward_score = model_backward\n",
    "sde.forward_score = model_forward"
   ]
  },
  {
   "cell_type": "code",
   "execution_count": 3,
   "metadata": {},
   "outputs": [
    {
     "data": {
      "text/plain": [
       "tensor([[[-0.7269,  0.0000,  5.8958,  0.0000],\n",
       "         [-0.0000, -0.2376,  0.0000,  6.9044]],\n",
       "\n",
       "        [[-0.7714,  0.0000,  5.8018,  0.0000],\n",
       "         [-0.0000, -0.2002,  0.0000,  6.8070]],\n",
       "\n",
       "        [[-0.8315,  0.0000,  5.7265,  0.0000],\n",
       "         [-0.0000, -0.1717,  0.0000,  6.7271]]], device='cuda:0')"
      ]
     },
     "execution_count": 3,
     "metadata": {},
     "output_type": "execute_result"
    }
   ],
   "source": [
    "t = torch.linspace(0,1,3, device=device).unsqueeze(0)\n",
    "model_forward(t)"
   ]
  },
  {
   "cell_type": "code",
   "execution_count": 5,
   "metadata": {},
   "outputs": [
    {
     "data": {
      "image/png": "[encoded data removed]",
      "text/plain": [
       "<Figure size 640x480 with 1 Axes>"
      ]
     },
     "metadata": {},
     "output_type": "display_data"
    }
   ],
   "source": [
    "data = dataset.sample(1000).to(device=device)\n",
    "aug_data = torch.cat((torch.zeros_like(data), data),dim=-1)\n",
    "\n",
    "noise, trajectory = sde.sample((1000,4),device, True, in_cond=aug_data)\n",
    "\n",
    "for i in range(trajectory.shape[1]):\n",
    "    plt.close()\n",
    "    plt.scatter(trajectory[:,i,0].cpu(),trajectory[:,i,1].cpu())\n",
    "    plt.savefig(f'trajectory/{i}.png')"
   ]
  }
 ],
 "metadata": {
  "kernelspec": {
   "display_name": "variational",
   "language": "python",
   "name": "python3"
  },
  "language_info": {
   "codemirror_mode": {
    "name": "ipython",
    "version": 3
   },
   "file_extension": ".py",
   "mimetype": "text/x-python",
   "name": "python",
   "nbconvert_exporter": "python",
   "pygments_lexer": "ipython3",
   "version": "3.12.4"
  }
 },
 "nbformat": 4,
 "nbformat_minor": 2
}
