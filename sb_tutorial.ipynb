{
 "cells": [
  {
   "cell_type": "code",
   "execution_count": 1,
   "metadata": {},
   "outputs": [],
   "source": [
    "import torch\n",
    "from tqdm import tqdm\n",
    "import matplotlib.pyplot as plt\n",
    "\n",
    "import utils.sde_lib\n",
    "import utils.models\n",
    "import utils.losses as losses\n",
    "from utils.datasets import get_dataset\n",
    "import utils.samplers\n",
    "from utils.misc import dotdict, batch_matrix_product"
   ]
  },
  {
   "cell_type": "code",
   "execution_count": 2,
   "metadata": {},
   "outputs": [],
   "source": [
    "opts =  dotdict({\n",
    "    'dataset': 'gmm',\n",
    "    'lr' : 3e-4,\n",
    "    'num_iters' : 1000,\n",
    "    'batch_size' : 512, \n",
    "    \n",
    "})\n",
    "device = torch.device('cuda' if torch.cuda.is_available() else 'cpu')\n",
    "dataset = get_dataset(opts)\n",
    "dim = dataset.dim\n",
    "model_backward = utils.models.MLP(dim=dim,augmented_sde=False).to(device=device)\n",
    "model_forward = utils.models.MatrixTimeEmbedding(4,2).to(device=device)\n",
    "sde = utils.sde_lib.LinearMomentumSchrodingerBridge()\n",
    "sde.backward_score = model_backward\n",
    "sde.forward_score = model_forward"
   ]
  },
  {
   "cell_type": "code",
   "execution_count": 3,
   "metadata": {},
   "outputs": [
    {
     "name": "stdout",
     "output_type": "stream",
     "text": [
      "torch.Size([2, 2, 4])\n",
      "tensor([[[ 0.0000,  0.0000,  0.0000,  0.0000],\n",
      "         [ 0.0000,  0.0000,  0.0000,  0.0000],\n",
      "         [ 0.1576, -0.1707,  0.1201,  0.1152],\n",
      "         [-0.0478, -0.1723, -0.1758, -0.0927]],\n",
      "\n",
      "        [[ 0.0000,  0.0000,  0.0000,  0.0000],\n",
      "         [ 0.0000,  0.0000,  0.0000,  0.0000],\n",
      "         [ 0.1670, -0.1280,  0.0799,  0.0546],\n",
      "         [-0.0134, -0.1616, -0.2723,  0.0165]]], device='cuda:0',\n",
      "       grad_fn=<CatBackward0>)\n",
      "tensor([[[ 0.0000,  0.0000, -1.0000,  0.0000],\n",
      "         [ 0.0000,  0.0000,  0.0000, -1.0000],\n",
      "         [ 1.1576, -0.1707,  2.1201,  0.1152],\n",
      "         [-0.0478,  0.8277, -0.1758,  1.9073]],\n",
      "\n",
      "        [[ 0.0000,  0.0000, -1.0000,  0.0000],\n",
      "         [ 0.0000,  0.0000,  0.0000, -1.0000],\n",
      "         [ 1.1670, -0.1280,  2.0799,  0.0546],\n",
      "         [-0.0134,  0.8384, -0.2723,  2.0165]]], device='cuda:0',\n",
      "       grad_fn=<CopySlices>)\n"
     ]
    }
   ],
   "source": [
    "t = torch.linspace(sde.delta, sde.T,2, device=device).unsqueeze(0)\n",
    "x = torch.randn((2,4),device=device)\n",
    "A = model_forward(t)\n",
    "print(A.shape)\n",
    "batch_matrix_product(A,x)\n",
    "Dt = sde.D(t)\n",
    "print(Dt)"
   ]
  },
  {
   "cell_type": "code",
   "execution_count": 4,
   "metadata": {},
   "outputs": [
    {
     "data": {
      "text/plain": [
       "torch.Size([2, 2, 2])"
      ]
     },
     "execution_count": 4,
     "metadata": {},
     "output_type": "execute_result"
    }
   ],
   "source": [
    "Dt[:,-dim:,:dim].shape"
   ]
  }
 ],
 "metadata": {
  "kernelspec": {
   "display_name": "variational",
   "language": "python",
   "name": "python3"
  },
  "language_info": {
   "codemirror_mode": {
    "name": "ipython",
    "version": 3
   },
   "file_extension": ".py",
   "mimetype": "text/x-python",
   "name": "python",
   "nbconvert_exporter": "python",
   "pygments_lexer": "ipython3",
   "version": "3.12.4"
  }
 },
 "nbformat": 4,
 "nbformat_minor": 2
}
