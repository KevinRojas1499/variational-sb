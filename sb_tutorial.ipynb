{
 "cells": [
  {
   "cell_type": "code",
   "execution_count": 7,
   "metadata": {},
   "outputs": [],
   "source": [
    "import torch\n",
    "from tqdm import tqdm\n",
    "import matplotlib.pyplot as plt\n",
    "\n",
    "import utils.sde_lib\n",
    "import utils.models\n",
    "import utils.losses as losses\n",
    "from utils.datasets import get_dataset\n",
    "import utils.samplers\n",
    "from utils.metrics import get_w2\n",
    "from utils.misc import dotdict"
   ]
  },
  {
   "cell_type": "code",
   "execution_count": 3,
   "metadata": {},
   "outputs": [],
   "source": [
    "opts =  dotdict({\n",
    "    'dataset': 'gmm',\n",
    "    'lr' : 3e-4,\n",
    "    'num_iters' : 1000,\n",
    "    'batch_size' : 512, \n",
    "    \n",
    "})\n",
    "device = torch.device('cuda' if torch.cuda.is_available() else 'cpu')\n",
    "dataset = get_dataset(opts)\n",
    "dim = dataset.dim\n",
    "model_backward = utils.models.MLP(dim=dim,augmented_sde=False).to(device=device)\n",
    "model_forward = utils.models.MLP(dim=dim,augmented_sde=False).to(device=device)\n",
    "sde = utils.sde_lib.SchrodingerBridge(model_forward,model_backward)"
   ]
  },
  {
   "cell_type": "code",
   "execution_count": 4,
   "metadata": {},
   "outputs": [
    {
     "name": "stderr",
     "output_type": "stream",
     "text": [
      "100%|██████████| 2000/2000 [11:48<00:00,  2.82it/s]\n"
     ]
    }
   ],
   "source": [
    "opt = torch.optim.Adam(model_backward.parameters(),lr=opts.lr)\n",
    "opt_sde = torch.optim.Adam(model_forward.parameters(),lr=opts.lr)\n",
    "num_iters = opts.num_iters\n",
    "batch_size = opts.batch_size\n",
    "data = dataset.sample(1000)\n",
    "log_sample_quality = 50\n",
    "loss_fn = losses.standard_sb_loss\n",
    "for i in tqdm(range(num_iters)):\n",
    "    data = dataset.sample(batch_size).to(device=device)\n",
    "    opt.zero_grad()\n",
    "    opt_sde.zero_grad()\n",
    "    loss = loss_fn(sde,data,model_backward)\n",
    "    loss.backward()\n",
    "    opt.step()\n",
    "    opt_sde.step()"
   ]
  },
  {
   "cell_type": "code",
   "execution_count": 14,
   "metadata": {},
   "outputs": [
    {
     "data": {
      "text/plain": [
       "tensor([[ 5.7286,  3.1894],\n",
       "        [-3.3309, -5.2918],\n",
       "        [-5.3041, -3.8012],\n",
       "        ...,\n",
       "        [-4.3929, -5.9638],\n",
       "        [ 3.6272,  5.5457],\n",
       "        [ 5.5049,  6.5349]], device='cuda:0', grad_fn=<AddBackward0>)"
      ]
     },
     "execution_count": 14,
     "metadata": {},
     "output_type": "execute_result"
    },
    {
     "data": {
      "text/plain": [
       "<Figure size 640x480 with 0 Axes>"
      ]
     },
     "metadata": {},
     "output_type": "display_data"
    },
    {
     "ename": "",
     "evalue": "",
     "output_type": "error",
     "traceback": [
      "\u001b[1;31mThe Kernel crashed while executing code in the current cell or a previous cell. \n",
      "\u001b[1;31mPlease review the code in the cell(s) to identify a possible cause of the failure. \n",
      "\u001b[1;31mClick <a href='https://aka.ms/vscodeJupyterKernelCrash'>here</a> for more info. \n",
      "\u001b[1;31mView Jupyter <a href='command:jupyter.viewOutput'>log</a> for further details."
     ]
    }
   ],
   "source": [
    "def sample(sde, shape, device, backward=True, in_cond_for_forward=None):\n",
    "    xt = sde.prior_sampling(shape,device) if backward else in_cond_for_forward\n",
    "    assert xt is not None\n",
    "    time_pts = torch.linspace(0., sde.T, 100, device=device)\n",
    "    for i, t in enumerate(time_pts):\n",
    "        if i == 99:\n",
    "            break\n",
    "        dt = time_pts[i+1] - t \n",
    "        dt = -dt if backward else dt \n",
    "        t_shape = t.unsqueeze(-1).expand(xt.shape[0],1)\n",
    "        drift = sde.drift(xt,sde.T - t_shape, forward=(not backward))\n",
    "        xt = xt + drift * dt + torch.randn_like(xt) * sde.diffusion(xt,t) * dt.abs().sqrt()\n",
    "        \n",
    "        plt.xlim(-10,10)\n",
    "        plt.ylim(-10,10)\n",
    "        plt.scatter(xt[:,0].cpu().detach().numpy(), xt[:,1].cpu().detach().numpy())\n",
    "        plt.savefig(f'./trajectory/{i}.png')\n",
    "        plt.clf()\n",
    "    return xt\n",
    "\n",
    "sample(sde,(1000,2),device,True,data)"
   ]
  }
 ],
 "metadata": {
  "kernelspec": {
   "display_name": "variational",
   "language": "python",
   "name": "python3"
  },
  "language_info": {
   "codemirror_mode": {
    "name": "ipython",
    "version": 3
   },
   "file_extension": ".py",
   "mimetype": "text/x-python",
   "name": "python",
   "nbconvert_exporter": "python",
   "pygments_lexer": "ipython3",
   "version": "3.1.-1"
  }
 },
 "nbformat": 4,
 "nbformat_minor": 2
}
