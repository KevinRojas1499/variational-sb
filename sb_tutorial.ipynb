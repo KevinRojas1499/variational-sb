{
 "cells": [
  {
   "cell_type": "code",
   "execution_count": 1,
   "metadata": {},
   "outputs": [],
   "source": [
    "import torch\n",
    "from tqdm import tqdm\n",
    "import matplotlib.pyplot as plt\n",
    "\n",
    "import utils.sde_lib\n",
    "import utils.models\n",
    "import utils.losses as losses\n",
    "from utils.datasets import get_dataset\n",
    "import utils.samplers\n",
    "from utils.misc import dotdict, batch_matrix_product"
   ]
  },
  {
   "cell_type": "code",
   "execution_count": 2,
   "metadata": {},
   "outputs": [],
   "source": [
    "opts =  dotdict({\n",
    "    'dataset': 'gmm',\n",
    "    'lr' : 3e-4,\n",
    "    'num_iters' : 1000,\n",
    "    'batch_size' : 512, \n",
    "    \n",
    "})\n",
    "device = torch.device('cuda' if torch.cuda.is_available() else 'cpu')\n",
    "dataset = get_dataset(opts)\n",
    "dim = dataset.dim\n",
    "model_backward = utils.models.MLP(dim=dim,augmented_sde=False).to(device=device)\n",
    "model_forward = utils.models.MatrixTimeEmbedding(4,2).to(device=device)\n",
    "sde = utils.sde_lib.LinearMomentumSchrodingerBridge()\n",
    "sde.backward_score = model_backward\n",
    "sde.forward_score = model_forward"
   ]
  },
  {
   "cell_type": "code",
   "execution_count": 5,
   "metadata": {},
   "outputs": [
    {
     "name": "stdout",
     "output_type": "stream",
     "text": [
      "torch.Size([2, 4, 4])\n"
     ]
    }
   ],
   "source": [
    "\n",
    "t = torch.linspace(sde.delta, sde.T,2, device=device).unsqueeze(-1)\n",
    "x = torch.randn((2,4),device=device)\n",
    "A = model_forward(t)\n",
    "Dt = sde.D(t)\n",
    "\n",
    "beta_ds = sde.int_beta_ds(t)\n",
    "print(beta_ds.shape)\n",
    "# print(sde.compute_variance(t))"
   ]
  }
 ],
 "metadata": {
  "kernelspec": {
   "display_name": "variational",
   "language": "python",
   "name": "python3"
  },
  "language_info": {
   "codemirror_mode": {
    "name": "ipython",
    "version": 3
   },
   "file_extension": ".py",
   "mimetype": "text/x-python",
   "name": "python",
   "nbconvert_exporter": "python",
   "pygments_lexer": "ipython3",
   "version": "3.12.4"
  }
 },
 "nbformat": 4,
 "nbformat_minor": 2
}
